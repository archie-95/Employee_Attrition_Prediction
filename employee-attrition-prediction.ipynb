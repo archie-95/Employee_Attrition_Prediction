{
 "cells": [
  {
   "cell_type": "markdown",
   "metadata": {
    "papermill": {
     "duration": 0.020474,
     "end_time": "2020-08-28T17:04:23.374755",
     "exception": false,
     "start_time": "2020-08-28T17:04:23.354281",
     "status": "completed"
    },
    "tags": []
   },
   "source": [
    "# Prediction of Employee Attrition"
   ]
  },
  {
   "cell_type": "markdown",
   "metadata": {
    "papermill": {
     "duration": 0.017493,
     "end_time": "2020-08-28T17:04:23.408759",
     "exception": false,
     "start_time": "2020-08-28T17:04:23.391266",
     "status": "completed"
    },
    "tags": []
   },
   "source": [
    "**Problem Description**\n",
    "\n",
    "As the COVID-19 keeps unleashing its havoc, the world continues to get pushed into the crisis of the great economic recession, more and more companies start to cut down their underperforming employees. Companies firing hundreds and thousands of Employees is a typical headline today. Cutting down employees or reducing an employee salary is a tough decision to take. It needs to be taken with utmost care as imprecision in the identification of employees whose performance is attriting may lead to sabotaging of both employees' career and the company's reputation in the market.\n",
    "\n",
    "To predict Employee Attrition by the given data about his/her past history.\n",
    "\n",
    "Data set was provided by IBM.\n",
    "\n",
    "![Image](https://i2.wp.com/thecontextofthings.com/wp-content/uploads/2017/01/employee-attrition.jpg?t=1305899489&quality=60&w=600)"
   ]
  },
  {
   "cell_type": "markdown",
   "metadata": {
    "papermill": {
     "duration": 0.015999,
     "end_time": "2020-08-28T17:04:23.444183",
     "exception": false,
     "start_time": "2020-08-28T17:04:23.428184",
     "status": "completed"
    },
    "tags": []
   },
   "source": [
    "**Problem Overview**\n",
    "\n",
    "Given that we have data on former employees, this is a standard supervised classification problem where the label is a binary variable, 0 (active employee), 1 (former employee). In this study, our target variable Y is the probability of an employee leaving the company."
   ]
  },
  {
   "cell_type": "markdown",
   "metadata": {
    "papermill": {
     "duration": 0.016015,
     "end_time": "2020-08-28T17:04:23.476718",
     "exception": false,
     "start_time": "2020-08-28T17:04:23.460703",
     "status": "completed"
    },
    "tags": []
   },
   "source": [
    "**Dataset Analysis**"
   ]
  },
  {
   "cell_type": "code",
   "execution_count": 68,
   "metadata": {
    "execution": {
     "iopub.execute_input": "2020-08-28T17:04:23.517616Z",
     "iopub.status.busy": "2020-08-28T17:04:23.516805Z",
     "iopub.status.idle": "2020-08-28T17:04:23.618035Z",
     "shell.execute_reply": "2020-08-28T17:04:23.617191Z"
    },
    "papermill": {
     "duration": 0.12503,
     "end_time": "2020-08-28T17:04:23.618174",
     "exception": false,
     "start_time": "2020-08-28T17:04:23.493144",
     "status": "completed"
    },
    "tags": []
   },
   "outputs": [
    {
     "data": {
      "text/html": [
       "<div>\n",
       "<style scoped>\n",
       "    .dataframe tbody tr th:only-of-type {\n",
       "        vertical-align: middle;\n",
       "    }\n",
       "\n",
       "    .dataframe tbody tr th {\n",
       "        vertical-align: top;\n",
       "    }\n",
       "\n",
       "    .dataframe thead th {\n",
       "        text-align: right;\n",
       "    }\n",
       "</style>\n",
       "<table border=\"1\" class=\"dataframe\">\n",
       "  <thead>\n",
       "    <tr style=\"text-align: right;\">\n",
       "      <th></th>\n",
       "      <th>Age</th>\n",
       "      <th>Attrition</th>\n",
       "      <th>BusinessTravel</th>\n",
       "      <th>Department</th>\n",
       "      <th>DistanceFromHome</th>\n",
       "      <th>Education</th>\n",
       "      <th>EducationField</th>\n",
       "      <th>EmployeeNumber</th>\n",
       "      <th>EnvironmentSatisfaction</th>\n",
       "      <th>Gender</th>\n",
       "      <th>...</th>\n",
       "      <th>PerformanceRating</th>\n",
       "      <th>StockOptionLevel</th>\n",
       "      <th>TotalWorkingYears</th>\n",
       "      <th>TrainingTimesLastYear</th>\n",
       "      <th>YearsAtCompany</th>\n",
       "      <th>YearsInCurrentRole</th>\n",
       "      <th>YearsSinceLastPromotion</th>\n",
       "      <th>YearsWithCurrManager</th>\n",
       "      <th>CommunicationSkill</th>\n",
       "      <th>Behaviour</th>\n",
       "    </tr>\n",
       "    <tr>\n",
       "      <th>Id</th>\n",
       "      <th></th>\n",
       "      <th></th>\n",
       "      <th></th>\n",
       "      <th></th>\n",
       "      <th></th>\n",
       "      <th></th>\n",
       "      <th></th>\n",
       "      <th></th>\n",
       "      <th></th>\n",
       "      <th></th>\n",
       "      <th></th>\n",
       "      <th></th>\n",
       "      <th></th>\n",
       "      <th></th>\n",
       "      <th></th>\n",
       "      <th></th>\n",
       "      <th></th>\n",
       "      <th></th>\n",
       "      <th></th>\n",
       "      <th></th>\n",
       "      <th></th>\n",
       "    </tr>\n",
       "  </thead>\n",
       "  <tbody>\n",
       "    <tr>\n",
       "      <th>1</th>\n",
       "      <td>30</td>\n",
       "      <td>0</td>\n",
       "      <td>Non-Travel</td>\n",
       "      <td>Research &amp; Development</td>\n",
       "      <td>2</td>\n",
       "      <td>3</td>\n",
       "      <td>Medical</td>\n",
       "      <td>571</td>\n",
       "      <td>3</td>\n",
       "      <td>Female</td>\n",
       "      <td>...</td>\n",
       "      <td>3</td>\n",
       "      <td>0</td>\n",
       "      <td>12</td>\n",
       "      <td>2</td>\n",
       "      <td>11</td>\n",
       "      <td>7</td>\n",
       "      <td>6</td>\n",
       "      <td>7</td>\n",
       "      <td>4</td>\n",
       "      <td>1</td>\n",
       "    </tr>\n",
       "    <tr>\n",
       "      <th>2</th>\n",
       "      <td>36</td>\n",
       "      <td>0</td>\n",
       "      <td>Travel_Rarely</td>\n",
       "      <td>Research &amp; Development</td>\n",
       "      <td>12</td>\n",
       "      <td>4</td>\n",
       "      <td>Life Sciences</td>\n",
       "      <td>1614</td>\n",
       "      <td>3</td>\n",
       "      <td>Female</td>\n",
       "      <td>...</td>\n",
       "      <td>3</td>\n",
       "      <td>2</td>\n",
       "      <td>7</td>\n",
       "      <td>2</td>\n",
       "      <td>3</td>\n",
       "      <td>2</td>\n",
       "      <td>1</td>\n",
       "      <td>1</td>\n",
       "      <td>2</td>\n",
       "      <td>1</td>\n",
       "    </tr>\n",
       "    <tr>\n",
       "      <th>3</th>\n",
       "      <td>55</td>\n",
       "      <td>1</td>\n",
       "      <td>Travel_Rarely</td>\n",
       "      <td>Sales</td>\n",
       "      <td>2</td>\n",
       "      <td>1</td>\n",
       "      <td>Medical</td>\n",
       "      <td>842</td>\n",
       "      <td>3</td>\n",
       "      <td>Male</td>\n",
       "      <td>...</td>\n",
       "      <td>3</td>\n",
       "      <td>0</td>\n",
       "      <td>12</td>\n",
       "      <td>3</td>\n",
       "      <td>9</td>\n",
       "      <td>7</td>\n",
       "      <td>7</td>\n",
       "      <td>3</td>\n",
       "      <td>5</td>\n",
       "      <td>1</td>\n",
       "    </tr>\n",
       "    <tr>\n",
       "      <th>4</th>\n",
       "      <td>39</td>\n",
       "      <td>0</td>\n",
       "      <td>Travel_Rarely</td>\n",
       "      <td>Research &amp; Development</td>\n",
       "      <td>24</td>\n",
       "      <td>1</td>\n",
       "      <td>Life Sciences</td>\n",
       "      <td>2014</td>\n",
       "      <td>1</td>\n",
       "      <td>Male</td>\n",
       "      <td>...</td>\n",
       "      <td>3</td>\n",
       "      <td>0</td>\n",
       "      <td>18</td>\n",
       "      <td>2</td>\n",
       "      <td>7</td>\n",
       "      <td>7</td>\n",
       "      <td>1</td>\n",
       "      <td>7</td>\n",
       "      <td>4</td>\n",
       "      <td>1</td>\n",
       "    </tr>\n",
       "    <tr>\n",
       "      <th>5</th>\n",
       "      <td>37</td>\n",
       "      <td>0</td>\n",
       "      <td>Travel_Rarely</td>\n",
       "      <td>Research &amp; Development</td>\n",
       "      <td>3</td>\n",
       "      <td>3</td>\n",
       "      <td>Other</td>\n",
       "      <td>689</td>\n",
       "      <td>3</td>\n",
       "      <td>Male</td>\n",
       "      <td>...</td>\n",
       "      <td>3</td>\n",
       "      <td>1</td>\n",
       "      <td>10</td>\n",
       "      <td>2</td>\n",
       "      <td>10</td>\n",
       "      <td>7</td>\n",
       "      <td>7</td>\n",
       "      <td>8</td>\n",
       "      <td>1</td>\n",
       "      <td>1</td>\n",
       "    </tr>\n",
       "    <tr>\n",
       "      <th>...</th>\n",
       "      <td>...</td>\n",
       "      <td>...</td>\n",
       "      <td>...</td>\n",
       "      <td>...</td>\n",
       "      <td>...</td>\n",
       "      <td>...</td>\n",
       "      <td>...</td>\n",
       "      <td>...</td>\n",
       "      <td>...</td>\n",
       "      <td>...</td>\n",
       "      <td>...</td>\n",
       "      <td>...</td>\n",
       "      <td>...</td>\n",
       "      <td>...</td>\n",
       "      <td>...</td>\n",
       "      <td>...</td>\n",
       "      <td>...</td>\n",
       "      <td>...</td>\n",
       "      <td>...</td>\n",
       "      <td>...</td>\n",
       "      <td>...</td>\n",
       "    </tr>\n",
       "    <tr>\n",
       "      <th>1624</th>\n",
       "      <td>42</td>\n",
       "      <td>1</td>\n",
       "      <td>Travel_Frequently</td>\n",
       "      <td>Research &amp; Development</td>\n",
       "      <td>19</td>\n",
       "      <td>3</td>\n",
       "      <td>Medical</td>\n",
       "      <td>752</td>\n",
       "      <td>3</td>\n",
       "      <td>Male</td>\n",
       "      <td>...</td>\n",
       "      <td>3</td>\n",
       "      <td>0</td>\n",
       "      <td>7</td>\n",
       "      <td>2</td>\n",
       "      <td>2</td>\n",
       "      <td>2</td>\n",
       "      <td>2</td>\n",
       "      <td>2</td>\n",
       "      <td>3</td>\n",
       "      <td>1</td>\n",
       "    </tr>\n",
       "    <tr>\n",
       "      <th>1625</th>\n",
       "      <td>55</td>\n",
       "      <td>1</td>\n",
       "      <td>Travel_Rarely</td>\n",
       "      <td>Sales</td>\n",
       "      <td>2</td>\n",
       "      <td>1</td>\n",
       "      <td>Medical</td>\n",
       "      <td>842</td>\n",
       "      <td>3</td>\n",
       "      <td>Male</td>\n",
       "      <td>...</td>\n",
       "      <td>3</td>\n",
       "      <td>0</td>\n",
       "      <td>12</td>\n",
       "      <td>3</td>\n",
       "      <td>9</td>\n",
       "      <td>7</td>\n",
       "      <td>7</td>\n",
       "      <td>3</td>\n",
       "      <td>5</td>\n",
       "      <td>1</td>\n",
       "    </tr>\n",
       "    <tr>\n",
       "      <th>1626</th>\n",
       "      <td>25</td>\n",
       "      <td>1</td>\n",
       "      <td>Travel_Rarely</td>\n",
       "      <td>Sales</td>\n",
       "      <td>9</td>\n",
       "      <td>2</td>\n",
       "      <td>Life Sciences</td>\n",
       "      <td>1439</td>\n",
       "      <td>1</td>\n",
       "      <td>Male</td>\n",
       "      <td>...</td>\n",
       "      <td>3</td>\n",
       "      <td>0</td>\n",
       "      <td>6</td>\n",
       "      <td>2</td>\n",
       "      <td>3</td>\n",
       "      <td>2</td>\n",
       "      <td>2</td>\n",
       "      <td>2</td>\n",
       "      <td>5</td>\n",
       "      <td>1</td>\n",
       "    </tr>\n",
       "    <tr>\n",
       "      <th>1627</th>\n",
       "      <td>29</td>\n",
       "      <td>1</td>\n",
       "      <td>Travel_Rarely</td>\n",
       "      <td>Human Resources</td>\n",
       "      <td>13</td>\n",
       "      <td>3</td>\n",
       "      <td>Human Resources</td>\n",
       "      <td>1844</td>\n",
       "      <td>1</td>\n",
       "      <td>Male</td>\n",
       "      <td>...</td>\n",
       "      <td>3</td>\n",
       "      <td>3</td>\n",
       "      <td>4</td>\n",
       "      <td>3</td>\n",
       "      <td>2</td>\n",
       "      <td>2</td>\n",
       "      <td>2</td>\n",
       "      <td>0</td>\n",
       "      <td>5</td>\n",
       "      <td>1</td>\n",
       "    </tr>\n",
       "    <tr>\n",
       "      <th>1628</th>\n",
       "      <td>29</td>\n",
       "      <td>1</td>\n",
       "      <td>Travel_Rarely</td>\n",
       "      <td>Research &amp; Development</td>\n",
       "      <td>18</td>\n",
       "      <td>1</td>\n",
       "      <td>Medical</td>\n",
       "      <td>315</td>\n",
       "      <td>3</td>\n",
       "      <td>Male</td>\n",
       "      <td>...</td>\n",
       "      <td>3</td>\n",
       "      <td>0</td>\n",
       "      <td>4</td>\n",
       "      <td>3</td>\n",
       "      <td>4</td>\n",
       "      <td>3</td>\n",
       "      <td>0</td>\n",
       "      <td>1</td>\n",
       "      <td>2</td>\n",
       "      <td>1</td>\n",
       "    </tr>\n",
       "  </tbody>\n",
       "</table>\n",
       "<p>1628 rows × 28 columns</p>\n",
       "</div>"
      ],
      "text/plain": [
       "      Age  Attrition     BusinessTravel              Department  \\\n",
       "Id                                                                \n",
       "1      30          0         Non-Travel  Research & Development   \n",
       "2      36          0      Travel_Rarely  Research & Development   \n",
       "3      55          1      Travel_Rarely                   Sales   \n",
       "4      39          0      Travel_Rarely  Research & Development   \n",
       "5      37          0      Travel_Rarely  Research & Development   \n",
       "...   ...        ...                ...                     ...   \n",
       "1624   42          1  Travel_Frequently  Research & Development   \n",
       "1625   55          1      Travel_Rarely                   Sales   \n",
       "1626   25          1      Travel_Rarely                   Sales   \n",
       "1627   29          1      Travel_Rarely         Human Resources   \n",
       "1628   29          1      Travel_Rarely  Research & Development   \n",
       "\n",
       "      DistanceFromHome  Education   EducationField  EmployeeNumber  \\\n",
       "Id                                                                   \n",
       "1                    2          3          Medical             571   \n",
       "2                   12          4    Life Sciences            1614   \n",
       "3                    2          1          Medical             842   \n",
       "4                   24          1    Life Sciences            2014   \n",
       "5                    3          3            Other             689   \n",
       "...                ...        ...              ...             ...   \n",
       "1624                19          3          Medical             752   \n",
       "1625                 2          1          Medical             842   \n",
       "1626                 9          2    Life Sciences            1439   \n",
       "1627                13          3  Human Resources            1844   \n",
       "1628                18          1          Medical             315   \n",
       "\n",
       "      EnvironmentSatisfaction  Gender  ...  PerformanceRating  \\\n",
       "Id                                     ...                      \n",
       "1                           3  Female  ...                  3   \n",
       "2                           3  Female  ...                  3   \n",
       "3                           3    Male  ...                  3   \n",
       "4                           1    Male  ...                  3   \n",
       "5                           3    Male  ...                  3   \n",
       "...                       ...     ...  ...                ...   \n",
       "1624                        3    Male  ...                  3   \n",
       "1625                        3    Male  ...                  3   \n",
       "1626                        1    Male  ...                  3   \n",
       "1627                        1    Male  ...                  3   \n",
       "1628                        3    Male  ...                  3   \n",
       "\n",
       "     StockOptionLevel  TotalWorkingYears TrainingTimesLastYear  \\\n",
       "Id                                                               \n",
       "1                   0                 12                     2   \n",
       "2                   2                  7                     2   \n",
       "3                   0                 12                     3   \n",
       "4                   0                 18                     2   \n",
       "5                   1                 10                     2   \n",
       "...               ...                ...                   ...   \n",
       "1624                0                  7                     2   \n",
       "1625                0                 12                     3   \n",
       "1626                0                  6                     2   \n",
       "1627                3                  4                     3   \n",
       "1628                0                  4                     3   \n",
       "\n",
       "      YearsAtCompany  YearsInCurrentRole YearsSinceLastPromotion  \\\n",
       "Id                                                                 \n",
       "1                 11                   7                       6   \n",
       "2                  3                   2                       1   \n",
       "3                  9                   7                       7   \n",
       "4                  7                   7                       1   \n",
       "5                 10                   7                       7   \n",
       "...              ...                 ...                     ...   \n",
       "1624               2                   2                       2   \n",
       "1625               9                   7                       7   \n",
       "1626               3                   2                       2   \n",
       "1627               2                   2                       2   \n",
       "1628               4                   3                       0   \n",
       "\n",
       "      YearsWithCurrManager  CommunicationSkill  Behaviour  \n",
       "Id                                                         \n",
       "1                        7                   4          1  \n",
       "2                        1                   2          1  \n",
       "3                        3                   5          1  \n",
       "4                        7                   4          1  \n",
       "5                        8                   1          1  \n",
       "...                    ...                 ...        ...  \n",
       "1624                     2                   3          1  \n",
       "1625                     3                   5          1  \n",
       "1626                     2                   5          1  \n",
       "1627                     0                   5          1  \n",
       "1628                     1                   2          1  \n",
       "\n",
       "[1628 rows x 28 columns]"
      ]
     },
     "execution_count": 68,
     "metadata": {},
     "output_type": "execute_result"
    }
   ],
   "source": [
    "# importing libraries for data handling and analysis \n",
    "import pandas as pd\n",
    "import numpy as np\n",
    "\n",
    "df = pd.read_csv('train.csv',index_col='Id')\n",
    "df"
   ]
  },
  {
   "cell_type": "code",
   "execution_count": 2,
   "metadata": {
    "execution": {
     "iopub.execute_input": "2020-08-28T17:04:23.660740Z",
     "iopub.status.busy": "2020-08-28T17:04:23.659950Z",
     "iopub.status.idle": "2020-08-28T17:04:25.033636Z",
     "shell.execute_reply": "2020-08-28T17:04:25.032766Z"
    },
    "papermill": {
     "duration": 1.398688,
     "end_time": "2020-08-28T17:04:25.033815",
     "exception": false,
     "start_time": "2020-08-28T17:04:23.635127",
     "status": "completed"
    },
    "tags": []
   },
   "outputs": [],
   "source": [
    "# importing libraries for data visualisations\n",
    "import matplotlib.pyplot as plt\n",
    "%matplotlib inline\n",
    "import seaborn as sns"
   ]
  },
  {
   "cell_type": "code",
   "execution_count": 3,
   "metadata": {
    "execution": {
     "iopub.execute_input": "2020-08-28T17:04:25.081196Z",
     "iopub.status.busy": "2020-08-28T17:04:25.079819Z",
     "iopub.status.idle": "2020-08-28T17:04:25.121916Z",
     "shell.execute_reply": "2020-08-28T17:04:25.120997Z"
    },
    "papermill": {
     "duration": 0.070524,
     "end_time": "2020-08-28T17:04:25.122091",
     "exception": false,
     "start_time": "2020-08-28T17:04:25.051567",
     "status": "completed"
    },
    "tags": []
   },
   "outputs": [
    {
     "name": "stdout",
     "output_type": "stream",
     "text": [
      "628\n"
     ]
    }
   ],
   "source": [
    "# To get rid of duplicates present in the data\n",
    "print(df.duplicated().sum())\n",
    "df.drop_duplicates(inplace=True)"
   ]
  },
  {
   "cell_type": "code",
   "execution_count": 4,
   "metadata": {
    "execution": {
     "iopub.execute_input": "2020-08-28T17:04:25.174928Z",
     "iopub.status.busy": "2020-08-28T17:04:25.173866Z",
     "iopub.status.idle": "2020-08-28T17:04:25.178473Z",
     "shell.execute_reply": "2020-08-28T17:04:25.177791Z"
    },
    "papermill": {
     "duration": 0.033438,
     "end_time": "2020-08-28T17:04:25.178605",
     "exception": false,
     "start_time": "2020-08-28T17:04:25.145167",
     "status": "completed"
    },
    "tags": []
   },
   "outputs": [
    {
     "data": {
      "text/plain": [
       "(1000, 27)"
      ]
     },
     "execution_count": 4,
     "metadata": {},
     "output_type": "execute_result"
    }
   ],
   "source": [
    "x = df.drop(['Attrition'],axis=1)\n",
    "y = df.Attrition\n",
    "x.shape"
   ]
  },
  {
   "cell_type": "code",
   "execution_count": 5,
   "metadata": {
    "execution": {
     "iopub.execute_input": "2020-08-28T17:04:25.223689Z",
     "iopub.status.busy": "2020-08-28T17:04:25.222829Z",
     "iopub.status.idle": "2020-08-28T17:04:25.695670Z",
     "shell.execute_reply": "2020-08-28T17:04:25.694854Z"
    },
    "papermill": {
     "duration": 0.499396,
     "end_time": "2020-08-28T17:04:25.695819",
     "exception": false,
     "start_time": "2020-08-28T17:04:25.196423",
     "status": "completed"
    },
    "tags": []
   },
   "outputs": [
    {
     "data": {
      "text/plain": [
       "<matplotlib.axes._subplots.AxesSubplot at 0x1d2144056d0>"
      ]
     },
     "execution_count": 5,
     "metadata": {},
     "output_type": "execute_result"
    },
    {
     "data": {
      "image/png": "[encoded data removed]",
      "text/plain": [
       "<Figure size 432x288 with 1 Axes>"
      ]
     },
     "metadata": {
      "needs_background": "light"
     },
     "output_type": "display_data"
    }
   ],
   "source": [
    "# to check whether mssing values present or not\n",
    "\n",
    "sns.heatmap(df.isnull(),yticklabels=False,cbar=False,cmap='viridis')"
   ]
  },
  {
   "cell_type": "code",
   "execution_count": 6,
   "metadata": {
    "execution": {
     "iopub.execute_input": "2020-08-28T17:04:25.740825Z",
     "iopub.status.busy": "2020-08-28T17:04:25.739984Z",
     "iopub.status.idle": "2020-08-28T17:04:29.909405Z",
     "shell.execute_reply": "2020-08-28T17:04:29.910032Z"
    },
    "papermill": {
     "duration": 4.194632,
     "end_time": "2020-08-28T17:04:29.910196",
     "exception": false,
     "start_time": "2020-08-28T17:04:25.715564",
     "status": "completed"
    },
    "tags": []
   },
   "outputs": [
    {
     "data": {
      "image/png": "[encoded data removed]",
      "text/plain": [
       "<Figure size 1440x1440 with 25 Axes>"
      ]
     },
     "metadata": {
      "needs_background": "light"
     },
     "output_type": "display_data"
    }
   ],
   "source": [
    "df.hist(figsize=(20,20))\n",
    "plt.show()"
   ]
  },
  {
   "cell_type": "code",
   "execution_count": 7,
   "metadata": {
    "execution": {
     "iopub.execute_input": "2020-08-28T17:04:29.966189Z",
     "iopub.status.busy": "2020-08-28T17:04:29.965138Z",
     "iopub.status.idle": "2020-08-28T17:04:29.970527Z",
     "shell.execute_reply": "2020-08-28T17:04:29.969771Z"
    },
    "papermill": {
     "duration": 0.03963,
     "end_time": "2020-08-28T17:04:29.970656",
     "exception": false,
     "start_time": "2020-08-28T17:04:29.931026",
     "status": "completed"
    },
    "tags": []
   },
   "outputs": [
    {
     "data": {
      "text/plain": [
       "{dtype('int64'): Index(['Age', 'Attrition', 'DistanceFromHome', 'Education', 'EmployeeNumber',\n",
       "        'EnvironmentSatisfaction', 'JobInvolvement', 'JobSatisfaction',\n",
       "        'MonthlyIncome', 'NumCompaniesWorked', 'PercentSalaryHike',\n",
       "        'PerformanceRating', 'StockOptionLevel', 'TotalWorkingYears',\n",
       "        'TrainingTimesLastYear', 'YearsAtCompany', 'YearsInCurrentRole',\n",
       "        'YearsSinceLastPromotion', 'YearsWithCurrManager', 'CommunicationSkill',\n",
       "        'Behaviour'],\n",
       "       dtype='object'),\n",
       " dtype('O'): Index(['BusinessTravel', 'Department', 'EducationField', 'Gender', 'JobRole',\n",
       "        'MaritalStatus', 'OverTime'],\n",
       "       dtype='object')}"
      ]
     },
     "execution_count": 7,
     "metadata": {},
     "output_type": "execute_result"
    }
   ],
   "source": [
    "types = df.columns.to_series().groupby(df.dtypes).groups\n",
    "types"
   ]
  },
  {
   "cell_type": "code",
   "execution_count": 7,
   "metadata": {
    "execution": {
     "iopub.execute_input": "2020-08-28T17:04:30.018581Z",
     "iopub.status.busy": "2020-08-28T17:04:30.017537Z",
     "iopub.status.idle": "2020-08-28T17:04:30.023370Z",
     "shell.execute_reply": "2020-08-28T17:04:30.022611Z"
    },
    "papermill": {
     "duration": 0.033808,
     "end_time": "2020-08-28T17:04:30.023503",
     "exception": false,
     "start_time": "2020-08-28T17:04:29.989695",
     "status": "completed"
    },
    "tags": []
   },
   "outputs": [
    {
     "data": {
      "text/plain": [
       "(1000, 28)"
      ]
     },
     "execution_count": 7,
     "metadata": {},
     "output_type": "execute_result"
    }
   ],
   "source": [
    "cols = df.columns\n",
    "cols_ob = []\n",
    "for j in cols :\n",
    "    if df[j].dtypes=='object':\n",
    "        cols_ob.append(j)\n",
    "df.shape"
   ]
  },
  {
   "cell_type": "code",
   "execution_count": 8,
   "metadata": {
    "execution": {
     "iopub.execute_input": "2020-08-28T17:04:30.076210Z",
     "iopub.status.busy": "2020-08-28T17:04:30.072744Z",
     "iopub.status.idle": "2020-08-28T17:04:30.217129Z",
     "shell.execute_reply": "2020-08-28T17:04:30.216314Z"
    },
    "papermill": {
     "duration": 0.17455,
     "end_time": "2020-08-28T17:04:30.217261",
     "exception": false,
     "start_time": "2020-08-28T17:04:30.042711",
     "status": "completed"
    },
    "tags": []
   },
   "outputs": [
    {
     "data": {
      "text/plain": [
       "{'whiskers': [<matplotlib.lines.Line2D at 0x1d215da8a60>,\n",
       "  <matplotlib.lines.Line2D at 0x1d215da8dc0>],\n",
       " 'caps': [<matplotlib.lines.Line2D at 0x1d2162e0160>,\n",
       "  <matplotlib.lines.Line2D at 0x1d2162e04c0>],\n",
       " 'boxes': [<matplotlib.lines.Line2D at 0x1d215da89d0>],\n",
       " 'medians': [<matplotlib.lines.Line2D at 0x1d2162e0820>],\n",
       " 'fliers': [<matplotlib.lines.Line2D at 0x1d2162e0b20>],\n",
       " 'means': []}"
      ]
     },
     "execution_count": 8,
     "metadata": {},
     "output_type": "execute_result"
    },
    {
     "data": {
      "image/png": "[encoded data removed]",
      "text/plain": [
       "<Figure size 432x288 with 1 Axes>"
      ]
     },
     "metadata": {
      "needs_background": "light"
     },
     "output_type": "display_data"
    }
   ],
   "source": [
    "plt.boxplot(x.MonthlyIncome)"
   ]
  },
  {
   "cell_type": "code",
   "execution_count": 9,
   "metadata": {
    "execution": {
     "iopub.execute_input": "2020-08-28T17:04:30.267762Z",
     "iopub.status.busy": "2020-08-28T17:04:30.261420Z",
     "iopub.status.idle": "2020-08-28T17:04:30.400623Z",
     "shell.execute_reply": "2020-08-28T17:04:30.399931Z"
    },
    "papermill": {
     "duration": 0.163955,
     "end_time": "2020-08-28T17:04:30.400766",
     "exception": false,
     "start_time": "2020-08-28T17:04:30.236811",
     "status": "completed"
    },
    "tags": []
   },
   "outputs": [
    {
     "data": {
      "text/plain": [
       "{'whiskers': [<matplotlib.lines.Line2D at 0x1d216326e50>,\n",
       "  <matplotlib.lines.Line2D at 0x1d2163341f0>],\n",
       " 'caps': [<matplotlib.lines.Line2D at 0x1d216334550>,\n",
       "  <matplotlib.lines.Line2D at 0x1d2163348b0>],\n",
       " 'boxes': [<matplotlib.lines.Line2D at 0x1d216326af0>],\n",
       " 'medians': [<matplotlib.lines.Line2D at 0x1d216334c10>],\n",
       " 'fliers': [<matplotlib.lines.Line2D at 0x1d216334f10>],\n",
       " 'means': []}"
      ]
     },
     "execution_count": 9,
     "metadata": {},
     "output_type": "execute_result"
    },
    {
     "data": {
      "image/png": "[encoded data removed]",
      "text/plain": [
       "<Figure size 432x288 with 1 Axes>"
      ]
     },
     "metadata": {
      "needs_background": "light"
     },
     "output_type": "display_data"
    }
   ],
   "source": [
    "plt.boxplot(x.DistanceFromHome)"
   ]
  },
  {
   "cell_type": "code",
   "execution_count": 10,
   "metadata": {
    "execution": {
     "iopub.execute_input": "2020-08-28T17:04:30.450972Z",
     "iopub.status.busy": "2020-08-28T17:04:30.447366Z",
     "iopub.status.idle": "2020-08-28T17:04:30.804951Z",
     "shell.execute_reply": "2020-08-28T17:04:30.804245Z"
    },
    "papermill": {
     "duration": 0.384118,
     "end_time": "2020-08-28T17:04:30.805084",
     "exception": false,
     "start_time": "2020-08-28T17:04:30.420966",
     "status": "completed"
    },
    "tags": []
   },
   "outputs": [
    {
     "data": {
      "text/plain": [
       "<matplotlib.axes._subplots.AxesSubplot at 0x1d21635e130>"
      ]
     },
     "execution_count": 10,
     "metadata": {},
     "output_type": "execute_result"
    },
    {
     "data": {
      "image/png": "[encoded data removed]",
      "text/plain": [
       "<Figure size 432x288 with 1 Axes>"
      ]
     },
     "metadata": {},
     "output_type": "display_data"
    }
   ],
   "source": [
    "import seaborn as sns\n",
    "sns.set_style('whitegrid')\n",
    "sns.countplot(x='Attrition',hue='BusinessTravel',data=df,palette='RdBu_r')"
   ]
  },
  {
   "cell_type": "code",
   "execution_count": 11,
   "metadata": {
    "execution": {
     "iopub.execute_input": "2020-08-28T17:04:30.857207Z",
     "iopub.status.busy": "2020-08-28T17:04:30.853797Z",
     "iopub.status.idle": "2020-08-28T17:04:31.070813Z",
     "shell.execute_reply": "2020-08-28T17:04:31.069799Z"
    },
    "papermill": {
     "duration": 0.243398,
     "end_time": "2020-08-28T17:04:31.070986",
     "exception": false,
     "start_time": "2020-08-28T17:04:30.827588",
     "status": "completed"
    },
    "tags": []
   },
   "outputs": [
    {
     "data": {
      "text/plain": [
       "<matplotlib.axes._subplots.AxesSubplot at 0x1d2163cfdf0>"
      ]
     },
     "execution_count": 11,
     "metadata": {},
     "output_type": "execute_result"
    },
    {
     "data": {
      "image/png": "[encoded data removed]",
      "text/plain": [
       "<Figure size 432x288 with 1 Axes>"
      ]
     },
     "metadata": {},
     "output_type": "display_data"
    }
   ],
   "source": [
    "sns.countplot(x='Attrition',hue='Department',data=df,palette='RdBu_r')"
   ]
  },
  {
   "cell_type": "code",
   "execution_count": 12,
   "metadata": {
    "execution": {
     "iopub.execute_input": "2020-08-28T17:04:31.130795Z",
     "iopub.status.busy": "2020-08-28T17:04:31.126707Z",
     "iopub.status.idle": "2020-08-28T17:04:31.390410Z",
     "shell.execute_reply": "2020-08-28T17:04:31.389634Z"
    },
    "papermill": {
     "duration": 0.293346,
     "end_time": "2020-08-28T17:04:31.390536",
     "exception": false,
     "start_time": "2020-08-28T17:04:31.097190",
     "status": "completed"
    },
    "tags": []
   },
   "outputs": [
    {
     "data": {
      "text/plain": [
       "<matplotlib.axes._subplots.AxesSubplot at 0x1d216430160>"
      ]
     },
     "execution_count": 12,
     "metadata": {},
     "output_type": "execute_result"
    },
    {
     "data": {
      "image/png": "[encoded data removed]",
      "text/plain": [
       "<Figure size 432x288 with 1 Axes>"
      ]
     },
     "metadata": {},
     "output_type": "display_data"
    }
   ],
   "source": [
    "sns.countplot(x='Attrition',hue='EducationField',data=df,palette='RdBu_r')"
   ]
  },
  {
   "cell_type": "code",
   "execution_count": 13,
   "metadata": {
    "execution": {
     "iopub.execute_input": "2020-08-28T17:04:31.446525Z",
     "iopub.status.busy": "2020-08-28T17:04:31.443313Z",
     "iopub.status.idle": "2020-08-28T17:04:31.634610Z",
     "shell.execute_reply": "2020-08-28T17:04:31.633976Z"
    },
    "papermill": {
     "duration": 0.221878,
     "end_time": "2020-08-28T17:04:31.634748",
     "exception": false,
     "start_time": "2020-08-28T17:04:31.412870",
     "status": "completed"
    },
    "tags": []
   },
   "outputs": [
    {
     "data": {
      "text/plain": [
       "<matplotlib.axes._subplots.AxesSubplot at 0x1d2164373d0>"
      ]
     },
     "execution_count": 13,
     "metadata": {},
     "output_type": "execute_result"
    },
    {
     "data": {
      "image/png": "[encoded data removed]",
      "text/plain": [
       "<Figure size 432x288 with 1 Axes>"
      ]
     },
     "metadata": {},
     "output_type": "display_data"
    }
   ],
   "source": [
    "sns.countplot(x='Attrition',hue='Gender',data=df,palette='RdBu_r')"
   ]
  },
  {
   "cell_type": "code",
   "execution_count": 14,
   "metadata": {
    "execution": {
     "iopub.execute_input": "2020-08-28T17:04:31.689055Z",
     "iopub.status.busy": "2020-08-28T17:04:31.686575Z",
     "iopub.status.idle": "2020-08-28T17:04:32.005734Z",
     "shell.execute_reply": "2020-08-28T17:04:32.005041Z"
    },
    "papermill": {
     "duration": 0.349667,
     "end_time": "2020-08-28T17:04:32.005872",
     "exception": false,
     "start_time": "2020-08-28T17:04:31.656205",
     "status": "completed"
    },
    "tags": []
   },
   "outputs": [
    {
     "data": {
      "text/plain": [
       "<matplotlib.axes._subplots.AxesSubplot at 0x1d2164f1280>"
      ]
     },
     "execution_count": 14,
     "metadata": {},
     "output_type": "execute_result"
    },
    {
     "data": {
      "image/png": "[encoded data removed]",
      "text/plain": [
       "<Figure size 432x288 with 1 Axes>"
      ]
     },
     "metadata": {},
     "output_type": "display_data"
    }
   ],
   "source": [
    "sns.countplot(x='Attrition',hue='JobRole',data=df,palette='RdBu_r')"
   ]
  },
  {
   "cell_type": "code",
   "execution_count": 15,
   "metadata": {
    "execution": {
     "iopub.execute_input": "2020-08-28T17:04:32.060519Z",
     "iopub.status.busy": "2020-08-28T17:04:32.059386Z",
     "iopub.status.idle": "2020-08-28T17:04:32.281006Z",
     "shell.execute_reply": "2020-08-28T17:04:32.279985Z"
    },
    "papermill": {
     "duration": 0.25213,
     "end_time": "2020-08-28T17:04:32.281174",
     "exception": false,
     "start_time": "2020-08-28T17:04:32.029044",
     "status": "completed"
    },
    "tags": []
   },
   "outputs": [
    {
     "data": {
      "text/plain": [
       "<matplotlib.axes._subplots.AxesSubplot at 0x1d2164f17f0>"
      ]
     },
     "execution_count": 15,
     "metadata": {},
     "output_type": "execute_result"
    },
    {
     "data": {
      "image/png": "[encoded data removed]",
      "text/plain": [
       "<Figure size 432x288 with 1 Axes>"
      ]
     },
     "metadata": {},
     "output_type": "display_data"
    }
   ],
   "source": [
    "sns.countplot(x='Attrition',hue='MaritalStatus',data=df,palette='RdBu_r')"
   ]
  },
  {
   "cell_type": "code",
   "execution_count": 16,
   "metadata": {
    "execution": {
     "iopub.execute_input": "2020-08-28T17:04:32.362728Z",
     "iopub.status.busy": "2020-08-28T17:04:32.348754Z",
     "iopub.status.idle": "2020-08-28T17:04:32.537289Z",
     "shell.execute_reply": "2020-08-28T17:04:32.536463Z"
    },
    "papermill": {
     "duration": 0.229206,
     "end_time": "2020-08-28T17:04:32.537475",
     "exception": false,
     "start_time": "2020-08-28T17:04:32.308269",
     "status": "completed"
    },
    "tags": []
   },
   "outputs": [
    {
     "data": {
      "text/plain": [
       "<matplotlib.axes._subplots.AxesSubplot at 0x1d21750dfa0>"
      ]
     },
     "execution_count": 16,
     "metadata": {},
     "output_type": "execute_result"
    },
    {
     "data": {
      "image/png": "[encoded data removed]",
      "text/plain": [
       "<Figure size 432x288 with 1 Axes>"
      ]
     },
     "metadata": {},
     "output_type": "display_data"
    }
   ],
   "source": [
    "sns.countplot(x='Attrition',hue='OverTime',data=df,palette='RdBu_r')"
   ]
  },
  {
   "cell_type": "code",
   "execution_count": 17,
   "metadata": {
    "execution": {
     "iopub.execute_input": "2020-08-28T17:04:32.610150Z",
     "iopub.status.busy": "2020-08-28T17:04:32.605649Z",
     "iopub.status.idle": "2020-08-28T17:04:32.833764Z",
     "shell.execute_reply": "2020-08-28T17:04:32.832442Z"
    },
    "papermill": {
     "duration": 0.27016,
     "end_time": "2020-08-28T17:04:32.833938",
     "exception": false,
     "start_time": "2020-08-28T17:04:32.563778",
     "status": "completed"
    },
    "tags": []
   },
   "outputs": [
    {
     "data": {
      "text/plain": [
       "<matplotlib.axes._subplots.AxesSubplot at 0x1d217568790>"
      ]
     },
     "execution_count": 17,
     "metadata": {},
     "output_type": "execute_result"
    },
    {
     "data": {
      "image/png": "[encoded data removed]",
      "text/plain": [
       "<Figure size 432x288 with 1 Axes>"
      ]
     },
     "metadata": {},
     "output_type": "display_data"
    }
   ],
   "source": [
    "sns.countplot(x='Attrition',hue='Education',data=df,palette='RdBu_r')"
   ]
  },
  {
   "cell_type": "code",
   "execution_count": 18,
   "metadata": {
    "execution": {
     "iopub.execute_input": "2020-08-28T17:04:32.907022Z",
     "iopub.status.busy": "2020-08-28T17:04:32.906041Z",
     "iopub.status.idle": "2020-08-28T17:04:33.105381Z",
     "shell.execute_reply": "2020-08-28T17:04:33.106144Z"
    },
    "papermill": {
     "duration": 0.240673,
     "end_time": "2020-08-28T17:04:33.106390",
     "exception": false,
     "start_time": "2020-08-28T17:04:32.865717",
     "status": "completed"
    },
    "tags": []
   },
   "outputs": [
    {
     "data": {
      "text/plain": [
       "<matplotlib.axes._subplots.AxesSubplot at 0x1d215163c40>"
      ]
     },
     "execution_count": 18,
     "metadata": {},
     "output_type": "execute_result"
    },
    {
     "data": {
      "image/png": "[encoded data removed]",
      "text/plain": [
       "<Figure size 432x288 with 1 Axes>"
      ]
     },
     "metadata": {},
     "output_type": "display_data"
    }
   ],
   "source": [
    "sns.countplot(x='Attrition',hue='PerformanceRating',data=df,palette='RdBu_r')"
   ]
  },
  {
   "cell_type": "code",
   "execution_count": 19,
   "metadata": {
    "execution": {
     "iopub.execute_input": "2020-08-28T17:04:33.200389Z",
     "iopub.status.busy": "2020-08-28T17:04:33.186312Z",
     "iopub.status.idle": "2020-08-28T17:04:33.408808Z",
     "shell.execute_reply": "2020-08-28T17:04:33.406709Z"
    },
    "papermill": {
     "duration": 0.27536,
     "end_time": "2020-08-28T17:04:33.408958",
     "exception": false,
     "start_time": "2020-08-28T17:04:33.133598",
     "status": "completed"
    },
    "tags": []
   },
   "outputs": [
    {
     "data": {
      "text/plain": [
       "<matplotlib.axes._subplots.AxesSubplot at 0x1d215153fd0>"
      ]
     },
     "execution_count": 19,
     "metadata": {},
     "output_type": "execute_result"
    },
    {
     "data": {
      "image/png": "[encoded data removed]",
      "text/plain": [
       "<Figure size 432x288 with 1 Axes>"
      ]
     },
     "metadata": {},
     "output_type": "display_data"
    }
   ],
   "source": [
    "sns.countplot(x='Attrition',hue='Education',data=df,palette='RdBu_r')"
   ]
  },
  {
   "cell_type": "code",
   "execution_count": 20,
   "metadata": {
    "execution": {
     "iopub.execute_input": "2020-08-28T17:04:33.486362Z",
     "iopub.status.busy": "2020-08-28T17:04:33.481880Z",
     "iopub.status.idle": "2020-08-28T17:04:33.707732Z",
     "shell.execute_reply": "2020-08-28T17:04:33.706870Z"
    },
    "papermill": {
     "duration": 0.266609,
     "end_time": "2020-08-28T17:04:33.707896",
     "exception": false,
     "start_time": "2020-08-28T17:04:33.441287",
     "status": "completed"
    },
    "tags": []
   },
   "outputs": [
    {
     "data": {
      "text/plain": [
       "<matplotlib.axes._subplots.AxesSubplot at 0x1d21517f430>"
      ]
     },
     "execution_count": 20,
     "metadata": {},
     "output_type": "execute_result"
    },
    {
     "data": {
      "image/png": "[encoded data removed]",
      "text/plain": [
       "<Figure size 432x288 with 1 Axes>"
      ]
     },
     "metadata": {},
     "output_type": "display_data"
    }
   ],
   "source": [
    "sns.countplot(x='Attrition',hue='StockOptionLevel',data=df,palette='RdBu_r')"
   ]
  },
  {
   "cell_type": "markdown",
   "metadata": {
    "papermill": {
     "duration": 0.024374,
     "end_time": "2020-08-28T17:04:33.761408",
     "exception": false,
     "start_time": "2020-08-28T17:04:33.737034",
     "status": "completed"
    },
    "tags": []
   },
   "source": [
    "**Conculsions by EDA**\n",
    "1. Dataset contains both numerical and categorical features and target variable is categorical\n",
    "2. Duplicates are present in the data \n",
    "3. The dataset does not contains any missing values, and all features are of the correct data type.\n",
    "4. We can remove Behaviour feature as it has unique value\n",
    "5. we can also remove Employee number as it is only an ID for an employee and has no effect on his/her Attrition\n",
    "\n"
   ]
  },
  {
   "cell_type": "markdown",
   "metadata": {
    "papermill": {
     "duration": 0.024388,
     "end_time": "2020-08-28T17:04:33.810304",
     "exception": false,
     "start_time": "2020-08-28T17:04:33.785916",
     "status": "completed"
    },
    "tags": []
   },
   "source": [
    "**Data preprocessing**"
   ]
  },
  {
   "cell_type": "code",
   "execution_count": 21,
   "metadata": {
    "execution": {
     "iopub.execute_input": "2020-08-28T17:04:33.867779Z",
     "iopub.status.busy": "2020-08-28T17:04:33.866791Z",
     "iopub.status.idle": "2020-08-28T17:04:33.869374Z",
     "shell.execute_reply": "2020-08-28T17:04:33.870083Z"
    },
    "papermill": {
     "duration": 0.035507,
     "end_time": "2020-08-28T17:04:33.870238",
     "exception": false,
     "start_time": "2020-08-28T17:04:33.834731",
     "status": "completed"
    },
    "tags": []
   },
   "outputs": [],
   "source": [
    "x = df.drop(['Attrition'],axis=1)\n",
    "y = df.Attrition\n",
    "#y = y[x.MonthlyIncome<15000]  # if want to remove outliers from data\n",
    "#x = x[x.MonthlyIncome<15000]"
   ]
  },
  {
   "cell_type": "code",
   "execution_count": 22,
   "metadata": {
    "execution": {
     "iopub.execute_input": "2020-08-28T17:04:33.929012Z",
     "iopub.status.busy": "2020-08-28T17:04:33.924364Z",
     "iopub.status.idle": "2020-08-28T17:04:33.945860Z",
     "shell.execute_reply": "2020-08-28T17:04:33.945022Z"
    },
    "papermill": {
     "duration": 0.051035,
     "end_time": "2020-08-28T17:04:33.945991",
     "exception": false,
     "start_time": "2020-08-28T17:04:33.894956",
     "status": "completed"
    },
    "tags": []
   },
   "outputs": [
    {
     "data": {
      "text/plain": [
       "Age                        0.376387\n",
       "Attrition                  1.888481\n",
       "DistanceFromHome           1.008337\n",
       "Education                 -0.321484\n",
       "EmployeeNumber             0.046570\n",
       "EnvironmentSatisfaction   -0.325588\n",
       "JobInvolvement            -0.494499\n",
       "JobSatisfaction           -0.364461\n",
       "MonthlyIncome              1.374174\n",
       "NumCompaniesWorked         1.030069\n",
       "PercentSalaryHike          0.835923\n",
       "PerformanceRating          1.930742\n",
       "StockOptionLevel           0.999030\n",
       "TotalWorkingYears          1.096542\n",
       "TrainingTimesLastYear      0.567682\n",
       "YearsAtCompany             1.783427\n",
       "YearsInCurrentRole         0.965682\n",
       "YearsSinceLastPromotion    2.048824\n",
       "YearsWithCurrManager       0.905783\n",
       "CommunicationSkill        -0.042838\n",
       "Behaviour                  0.000000\n",
       "dtype: float64"
      ]
     },
     "execution_count": 22,
     "metadata": {},
     "output_type": "execute_result"
    }
   ],
   "source": [
    "# checking skewness of numerical features \n",
    "df.skew()"
   ]
  },
  {
   "cell_type": "code",
   "execution_count": 23,
   "metadata": {
    "execution": {
     "iopub.execute_input": "2020-08-28T17:04:34.007102Z",
     "iopub.status.busy": "2020-08-28T17:04:34.004017Z",
     "iopub.status.idle": "2020-08-28T17:04:34.011839Z",
     "shell.execute_reply": "2020-08-28T17:04:34.011189Z"
    },
    "papermill": {
     "duration": 0.040431,
     "end_time": "2020-08-28T17:04:34.011980",
     "exception": false,
     "start_time": "2020-08-28T17:04:33.971549",
     "status": "completed"
    },
    "tags": []
   },
   "outputs": [
    {
     "data": {
      "text/plain": [
       "MonthlyIncome              1.374174\n",
       "DistanceFromHome           1.008337\n",
       "TotalWorkingYears          1.096542\n",
       "YearsAtCompany             1.783427\n",
       "YearsSinceLastPromotion    2.048824\n",
       "YearsWithCurrManager       0.905783\n",
       "YearsInCurrentRole         0.965682\n",
       "PerformanceRating          1.930742\n",
       "dtype: float64"
      ]
     },
     "execution_count": 23,
     "metadata": {},
     "output_type": "execute_result"
    }
   ],
   "source": [
    "skew_feas = ['MonthlyIncome','DistanceFromHome','TotalWorkingYears','YearsAtCompany','YearsSinceLastPromotion','YearsWithCurrManager','YearsInCurrentRole',\n",
    "             'PerformanceRating']\n",
    "x[skew_feas].skew()"
   ]
  },
  {
   "cell_type": "code",
   "execution_count": 24,
   "metadata": {
    "execution": {
     "iopub.execute_input": "2020-08-28T17:04:34.074758Z",
     "iopub.status.busy": "2020-08-28T17:04:34.073953Z",
     "iopub.status.idle": "2020-08-28T17:04:34.083120Z",
     "shell.execute_reply": "2020-08-28T17:04:34.082300Z"
    },
    "papermill": {
     "duration": 0.04605,
     "end_time": "2020-08-28T17:04:34.083251",
     "exception": false,
     "start_time": "2020-08-28T17:04:34.037201",
     "status": "completed"
    },
    "tags": []
   },
   "outputs": [
    {
     "data": {
      "text/plain": [
       "MonthlyIncome              0.867000\n",
       "DistanceFromHome           0.426519\n",
       "TotalWorkingYears          0.176988\n",
       "YearsAtCompany             0.448279\n",
       "YearsSinceLastPromotion    0.758401\n",
       "YearsWithCurrManager      -0.202747\n",
       "YearsInCurrentRole        -0.208917\n",
       "PerformanceRating          1.930742\n",
       "dtype: float64"
      ]
     },
     "execution_count": 24,
     "metadata": {},
     "output_type": "execute_result"
    }
   ],
   "source": [
    "# using sqrt() to reduce skewness in the data\n",
    "x[skew_feas] = np.sqrt(x[skew_feas])\n",
    "x[skew_feas].skew()"
   ]
  },
  {
   "cell_type": "code",
   "execution_count": 25,
   "metadata": {
    "execution": {
     "iopub.execute_input": "2020-08-28T17:04:34.143183Z",
     "iopub.status.busy": "2020-08-28T17:04:34.142438Z",
     "iopub.status.idle": "2020-08-28T17:04:34.252923Z",
     "shell.execute_reply": "2020-08-28T17:04:34.252307Z"
    },
    "papermill": {
     "duration": 0.144677,
     "end_time": "2020-08-28T17:04:34.253055",
     "exception": false,
     "start_time": "2020-08-28T17:04:34.108378",
     "status": "completed"
    },
    "tags": []
   },
   "outputs": [
    {
     "name": "stdout",
     "output_type": "stream",
     "text": [
      "2 columns were label encoded.\n"
     ]
    }
   ],
   "source": [
    "# sklearn modules for preprocessing\n",
    "from sklearn.preprocessing import OneHotEncoder, LabelEncoder\n",
    "LE = LabelEncoder()\n",
    "# Label Encoding will be used for columns with 2 or less unique values\n",
    "le_count = 0\n",
    "for col in x.columns[1:]:\n",
    "    if x[col].dtype == 'object':\n",
    "        if len(list(x[col].unique())) <= 2:\n",
    "            LE.fit(x[col])\n",
    "            x[col] = LE.transform(x[col])\n",
    "            le_count += 1\n",
    "print('{} columns were label encoded.'.format(le_count))"
   ]
  },
  {
   "cell_type": "code",
   "execution_count": 26,
   "metadata": {
    "execution": {
     "iopub.execute_input": "2020-08-28T17:04:34.313863Z",
     "iopub.status.busy": "2020-08-28T17:04:34.310160Z",
     "iopub.status.idle": "2020-08-28T17:04:34.344265Z",
     "shell.execute_reply": "2020-08-28T17:04:34.343626Z"
    },
    "papermill": {
     "duration": 0.066115,
     "end_time": "2020-08-28T17:04:34.344414",
     "exception": false,
     "start_time": "2020-08-28T17:04:34.278299",
     "status": "completed"
    },
    "tags": []
   },
   "outputs": [
    {
     "data": {
      "text/html": [
       "<div>\n",
       "<style scoped>\n",
       "    .dataframe tbody tr th:only-of-type {\n",
       "        vertical-align: middle;\n",
       "    }\n",
       "\n",
       "    .dataframe tbody tr th {\n",
       "        vertical-align: top;\n",
       "    }\n",
       "\n",
       "    .dataframe thead th {\n",
       "        text-align: right;\n",
       "    }\n",
       "</style>\n",
       "<table border=\"1\" class=\"dataframe\">\n",
       "  <thead>\n",
       "    <tr style=\"text-align: right;\">\n",
       "      <th></th>\n",
       "      <th>EducationField_Human Resources</th>\n",
       "      <th>EducationField_Life Sciences</th>\n",
       "      <th>EducationField_Marketing</th>\n",
       "      <th>EducationField_Medical</th>\n",
       "      <th>EducationField_Other</th>\n",
       "      <th>EducationField_Technical Degree</th>\n",
       "      <th>MaritalStatus_Divorced</th>\n",
       "      <th>MaritalStatus_Married</th>\n",
       "      <th>MaritalStatus_Single</th>\n",
       "      <th>Department_Human Resources</th>\n",
       "      <th>...</th>\n",
       "      <th>JobRole_Laboratory Technician</th>\n",
       "      <th>JobRole_Manager</th>\n",
       "      <th>JobRole_Manufacturing Director</th>\n",
       "      <th>JobRole_Research Director</th>\n",
       "      <th>JobRole_Research Scientist</th>\n",
       "      <th>JobRole_Sales Executive</th>\n",
       "      <th>JobRole_Sales Representative</th>\n",
       "      <th>BusinessTravel_Non-Travel</th>\n",
       "      <th>BusinessTravel_Travel_Frequently</th>\n",
       "      <th>BusinessTravel_Travel_Rarely</th>\n",
       "    </tr>\n",
       "    <tr>\n",
       "      <th>Id</th>\n",
       "      <th></th>\n",
       "      <th></th>\n",
       "      <th></th>\n",
       "      <th></th>\n",
       "      <th></th>\n",
       "      <th></th>\n",
       "      <th></th>\n",
       "      <th></th>\n",
       "      <th></th>\n",
       "      <th></th>\n",
       "      <th></th>\n",
       "      <th></th>\n",
       "      <th></th>\n",
       "      <th></th>\n",
       "      <th></th>\n",
       "      <th></th>\n",
       "      <th></th>\n",
       "      <th></th>\n",
       "      <th></th>\n",
       "      <th></th>\n",
       "      <th></th>\n",
       "    </tr>\n",
       "  </thead>\n",
       "  <tbody>\n",
       "    <tr>\n",
       "      <th>1</th>\n",
       "      <td>0</td>\n",
       "      <td>0</td>\n",
       "      <td>0</td>\n",
       "      <td>1</td>\n",
       "      <td>0</td>\n",
       "      <td>0</td>\n",
       "      <td>0</td>\n",
       "      <td>0</td>\n",
       "      <td>1</td>\n",
       "      <td>0</td>\n",
       "      <td>...</td>\n",
       "      <td>1</td>\n",
       "      <td>0</td>\n",
       "      <td>0</td>\n",
       "      <td>0</td>\n",
       "      <td>0</td>\n",
       "      <td>0</td>\n",
       "      <td>0</td>\n",
       "      <td>1</td>\n",
       "      <td>0</td>\n",
       "      <td>0</td>\n",
       "    </tr>\n",
       "    <tr>\n",
       "      <th>2</th>\n",
       "      <td>0</td>\n",
       "      <td>1</td>\n",
       "      <td>0</td>\n",
       "      <td>0</td>\n",
       "      <td>0</td>\n",
       "      <td>0</td>\n",
       "      <td>0</td>\n",
       "      <td>1</td>\n",
       "      <td>0</td>\n",
       "      <td>0</td>\n",
       "      <td>...</td>\n",
       "      <td>0</td>\n",
       "      <td>0</td>\n",
       "      <td>1</td>\n",
       "      <td>0</td>\n",
       "      <td>0</td>\n",
       "      <td>0</td>\n",
       "      <td>0</td>\n",
       "      <td>0</td>\n",
       "      <td>0</td>\n",
       "      <td>1</td>\n",
       "    </tr>\n",
       "    <tr>\n",
       "      <th>3</th>\n",
       "      <td>0</td>\n",
       "      <td>0</td>\n",
       "      <td>0</td>\n",
       "      <td>1</td>\n",
       "      <td>0</td>\n",
       "      <td>0</td>\n",
       "      <td>0</td>\n",
       "      <td>0</td>\n",
       "      <td>1</td>\n",
       "      <td>0</td>\n",
       "      <td>...</td>\n",
       "      <td>0</td>\n",
       "      <td>0</td>\n",
       "      <td>0</td>\n",
       "      <td>0</td>\n",
       "      <td>0</td>\n",
       "      <td>1</td>\n",
       "      <td>0</td>\n",
       "      <td>0</td>\n",
       "      <td>0</td>\n",
       "      <td>1</td>\n",
       "    </tr>\n",
       "    <tr>\n",
       "      <th>4</th>\n",
       "      <td>0</td>\n",
       "      <td>1</td>\n",
       "      <td>0</td>\n",
       "      <td>0</td>\n",
       "      <td>0</td>\n",
       "      <td>0</td>\n",
       "      <td>0</td>\n",
       "      <td>0</td>\n",
       "      <td>1</td>\n",
       "      <td>0</td>\n",
       "      <td>...</td>\n",
       "      <td>0</td>\n",
       "      <td>0</td>\n",
       "      <td>0</td>\n",
       "      <td>0</td>\n",
       "      <td>1</td>\n",
       "      <td>0</td>\n",
       "      <td>0</td>\n",
       "      <td>0</td>\n",
       "      <td>0</td>\n",
       "      <td>1</td>\n",
       "    </tr>\n",
       "    <tr>\n",
       "      <th>5</th>\n",
       "      <td>0</td>\n",
       "      <td>0</td>\n",
       "      <td>0</td>\n",
       "      <td>0</td>\n",
       "      <td>1</td>\n",
       "      <td>0</td>\n",
       "      <td>0</td>\n",
       "      <td>1</td>\n",
       "      <td>0</td>\n",
       "      <td>0</td>\n",
       "      <td>...</td>\n",
       "      <td>0</td>\n",
       "      <td>0</td>\n",
       "      <td>1</td>\n",
       "      <td>0</td>\n",
       "      <td>0</td>\n",
       "      <td>0</td>\n",
       "      <td>0</td>\n",
       "      <td>0</td>\n",
       "      <td>0</td>\n",
       "      <td>1</td>\n",
       "    </tr>\n",
       "  </tbody>\n",
       "</table>\n",
       "<p>5 rows × 24 columns</p>\n",
       "</div>"
      ],
      "text/plain": [
       "    EducationField_Human Resources  EducationField_Life Sciences  \\\n",
       "Id                                                                 \n",
       "1                                0                             0   \n",
       "2                                0                             1   \n",
       "3                                0                             0   \n",
       "4                                0                             1   \n",
       "5                                0                             0   \n",
       "\n",
       "    EducationField_Marketing  EducationField_Medical  EducationField_Other  \\\n",
       "Id                                                                           \n",
       "1                          0                       1                     0   \n",
       "2                          0                       0                     0   \n",
       "3                          0                       1                     0   \n",
       "4                          0                       0                     0   \n",
       "5                          0                       0                     1   \n",
       "\n",
       "    EducationField_Technical Degree  MaritalStatus_Divorced  \\\n",
       "Id                                                            \n",
       "1                                 0                       0   \n",
       "2                                 0                       0   \n",
       "3                                 0                       0   \n",
       "4                                 0                       0   \n",
       "5                                 0                       0   \n",
       "\n",
       "    MaritalStatus_Married  MaritalStatus_Single  Department_Human Resources  \\\n",
       "Id                                                                            \n",
       "1                       0                     1                           0   \n",
       "2                       1                     0                           0   \n",
       "3                       0                     1                           0   \n",
       "4                       0                     1                           0   \n",
       "5                       1                     0                           0   \n",
       "\n",
       "    ...  JobRole_Laboratory Technician  JobRole_Manager  \\\n",
       "Id  ...                                                   \n",
       "1   ...                              1                0   \n",
       "2   ...                              0                0   \n",
       "3   ...                              0                0   \n",
       "4   ...                              0                0   \n",
       "5   ...                              0                0   \n",
       "\n",
       "    JobRole_Manufacturing Director  JobRole_Research Director  \\\n",
       "Id                                                              \n",
       "1                                0                          0   \n",
       "2                                1                          0   \n",
       "3                                0                          0   \n",
       "4                                0                          0   \n",
       "5                                1                          0   \n",
       "\n",
       "    JobRole_Research Scientist  JobRole_Sales Executive  \\\n",
       "Id                                                        \n",
       "1                            0                        0   \n",
       "2                            0                        0   \n",
       "3                            0                        1   \n",
       "4                            1                        0   \n",
       "5                            0                        0   \n",
       "\n",
       "    JobRole_Sales Representative  BusinessTravel_Non-Travel  \\\n",
       "Id                                                            \n",
       "1                              0                          1   \n",
       "2                              0                          0   \n",
       "3                              0                          0   \n",
       "4                              0                          0   \n",
       "5                              0                          0   \n",
       "\n",
       "    BusinessTravel_Travel_Frequently  BusinessTravel_Travel_Rarely  \n",
       "Id                                                                  \n",
       "1                                  0                             0  \n",
       "2                                  0                             1  \n",
       "3                                  0                             1  \n",
       "4                                  0                             1  \n",
       "5                                  0                             1  \n",
       "\n",
       "[5 rows x 24 columns]"
      ]
     },
     "execution_count": 26,
     "metadata": {},
     "output_type": "execute_result"
    }
   ],
   "source": [
    "# One hot encoding for categorical columns with more than 2 unique values\n",
    "dummies = pd.get_dummies(x[list(set(cols_ob)-set(['Gender','OverTime']))])\n",
    "dummies.head()"
   ]
  },
  {
   "cell_type": "code",
   "execution_count": 27,
   "metadata": {
    "execution": {
     "iopub.execute_input": "2020-08-28T17:04:34.411249Z",
     "iopub.status.busy": "2020-08-28T17:04:34.410454Z",
     "iopub.status.idle": "2020-08-28T17:04:34.418897Z",
     "shell.execute_reply": "2020-08-28T17:04:34.418250Z"
    },
    "papermill": {
     "duration": 0.048506,
     "end_time": "2020-08-28T17:04:34.419021",
     "exception": false,
     "start_time": "2020-08-28T17:04:34.370515",
     "status": "completed"
    },
    "tags": []
   },
   "outputs": [
    {
     "data": {
      "text/plain": [
       "(1000, 46)"
      ]
     },
     "execution_count": 27,
     "metadata": {},
     "output_type": "execute_result"
    }
   ],
   "source": [
    "x_merged = pd.concat([x,dummies],axis=1)\n",
    "x_merged.drop(['BusinessTravel','Department','EducationField','JobRole','MaritalStatus'],axis=1,inplace=True)\n",
    "x_merged.shape"
   ]
  },
  {
   "cell_type": "code",
   "execution_count": 28,
   "metadata": {
    "execution": {
     "iopub.execute_input": "2020-08-28T17:04:34.478717Z",
     "iopub.status.busy": "2020-08-28T17:04:34.477905Z",
     "iopub.status.idle": "2020-08-28T17:04:34.482405Z",
     "shell.execute_reply": "2020-08-28T17:04:34.481797Z"
    },
    "papermill": {
     "duration": 0.036926,
     "end_time": "2020-08-28T17:04:34.482540",
     "exception": false,
     "start_time": "2020-08-28T17:04:34.445614",
     "status": "completed"
    },
    "tags": []
   },
   "outputs": [
    {
     "name": "stdout",
     "output_type": "stream",
     "text": [
      "44\n"
     ]
    }
   ],
   "source": [
    "c =['Behaviour','EmployeeNumber']#,'Gender','Education','JobRole_Sales Executive','JobRole_Research Scientist']#'PercentSalaryHike','PerformanceRatings']  \n",
    "c = list(set(x_merged.columns)-set(c))\n",
    "print(len(c))"
   ]
  },
  {
   "cell_type": "code",
   "execution_count": 29,
   "metadata": {
    "execution": {
     "iopub.execute_input": "2020-08-28T17:04:34.542381Z",
     "iopub.status.busy": "2020-08-28T17:04:34.541539Z",
     "iopub.status.idle": "2020-08-28T17:04:34.583275Z",
     "shell.execute_reply": "2020-08-28T17:04:34.583912Z"
    },
    "papermill": {
     "duration": 0.07493,
     "end_time": "2020-08-28T17:04:34.584072",
     "exception": false,
     "start_time": "2020-08-28T17:04:34.509142",
     "status": "completed"
    },
    "tags": []
   },
   "outputs": [
    {
     "name": "stdout",
     "output_type": "stream",
     "text": [
      "(1000, 46)\n"
     ]
    }
   ],
   "source": [
    "x_merged_dum = x_merged\n",
    "x_merged = (x_merged-x_merged.min())/(x_merged.max()-x_merged.min())\n",
    "x_merged = x_merged*3\n",
    "print(x_merged.shape)"
   ]
  },
  {
   "cell_type": "markdown",
   "metadata": {
    "papermill": {
     "duration": 0.027277,
     "end_time": "2020-08-28T17:04:35.441212",
     "exception": false,
     "start_time": "2020-08-28T17:04:35.413935",
     "status": "completed"
    },
    "tags": []
   },
   "source": [
    "**Building Machine Learning Models**"
   ]
  },
  {
   "cell_type": "code",
   "execution_count": 51,
   "metadata": {
    "execution": {
     "iopub.execute_input": "2020-08-28T17:04:35.507108Z",
     "iopub.status.busy": "2020-08-28T17:04:35.506237Z",
     "iopub.status.idle": "2020-08-28T17:04:35.914563Z",
     "shell.execute_reply": "2020-08-28T17:04:35.913841Z"
    },
    "papermill": {
     "duration": 0.445683,
     "end_time": "2020-08-28T17:04:35.914704",
     "exception": false,
     "start_time": "2020-08-28T17:04:35.469021",
     "status": "completed"
    },
    "tags": []
   },
   "outputs": [],
   "source": [
    "# sklearn modules for ML model selection\n",
    "from sklearn.model_selection import train_test_split  # import 'train_test_split'\n",
    "from sklearn.model_selection import GridSearchCV\n",
    "from sklearn.model_selection import RandomizedSearchCV\n",
    "from sklearn.model_selection import KFold\n",
    "from sklearn.model_selection import cross_val_score\n",
    "\n",
    "# Libraries for data modelling\n",
    "from sklearn import svm, tree\n",
    "from sklearn import ensemble\n",
    "from sklearn.linear_model import LogisticRegression\n",
    "from sklearn.tree import DecisionTreeClassifier\n",
    "from sklearn.neighbors import KNeighborsClassifier\n",
    "from sklearn.naive_bayes import GaussianNB\n",
    "from sklearn.svm import SVC\n",
    "from sklearn.ensemble import RandomForestClassifier\n",
    "\n",
    "# Common sklearn Model Helpers\n",
    "from sklearn import feature_selection\n",
    "from sklearn import model_selection\n",
    "from sklearn import metrics\n",
    "\n",
    "# sklearn modules for performance metrics\n",
    "from sklearn.metrics import confusion_matrix\n",
    "from sklearn.metrics import auc, roc_auc_score"
   ]
  },
  {
   "cell_type": "code",
   "execution_count": 52,
   "metadata": {
    "execution": {
     "iopub.execute_input": "2020-08-28T17:04:35.981952Z",
     "iopub.status.busy": "2020-08-28T17:04:35.980896Z",
     "iopub.status.idle": "2020-08-28T17:04:35.983851Z",
     "shell.execute_reply": "2020-08-28T17:04:35.984398Z"
    },
    "papermill": {
     "duration": 0.041532,
     "end_time": "2020-08-28T17:04:35.984573",
     "exception": false,
     "start_time": "2020-08-28T17:04:35.943041",
     "status": "completed"
    },
    "tags": []
   },
   "outputs": [],
   "source": [
    "# selection of algorithms to consider and set performance measure\n",
    "models = []\n",
    "models.append(('Logistic Regression', LogisticRegression(solver='liblinear', random_state=5)))\n",
    "models.append(('Random Forest', RandomForestClassifier(n_estimators=100, random_state=5)))\n",
    "models.append(('SVM', SVC(gamma='auto', random_state=7)))\n",
    "models.append(('KNN', KNeighborsClassifier()))\n",
    "models.append(('Decision Tree Classifier',DecisionTreeClassifier(random_state=7)))\n",
    "models.append(('Gaussian NB', GaussianNB()))"
   ]
  },
  {
   "cell_type": "code",
   "execution_count": 53,
   "metadata": {
    "execution": {
     "iopub.execute_input": "2020-08-28T17:04:36.049883Z",
     "iopub.status.busy": "2020-08-28T17:04:36.046975Z",
     "iopub.status.idle": "2020-08-28T17:04:36.054864Z",
     "shell.execute_reply": "2020-08-28T17:04:36.053897Z"
    },
    "papermill": {
     "duration": 0.042476,
     "end_time": "2020-08-28T17:04:36.055032",
     "exception": false,
     "start_time": "2020-08-28T17:04:36.012556",
     "status": "completed"
    },
    "tags": []
   },
   "outputs": [
    {
     "name": "stdout",
     "output_type": "stream",
     "text": [
      "(900, 46) (100, 46)\n"
     ]
    }
   ],
   "source": [
    "from sklearn.model_selection import train_test_split\n",
    "x_train,x_tes,y_train,y_tes = train_test_split(x_merged,y,test_size=0.1)\n",
    "print(x_train.shape,x_tes.shape)"
   ]
  },
  {
   "cell_type": "code",
   "execution_count": 54,
   "metadata": {
    "execution": {
     "iopub.execute_input": "2020-08-28T17:04:36.130777Z",
     "iopub.status.busy": "2020-08-28T17:04:36.129987Z",
     "iopub.status.idle": "2020-08-28T17:04:44.431756Z",
     "shell.execute_reply": "2020-08-28T17:04:44.432366Z"
    },
    "papermill": {
     "duration": 8.348632,
     "end_time": "2020-08-28T17:04:44.432526",
     "exception": false,
     "start_time": "2020-08-28T17:04:36.083894",
     "status": "completed"
    },
    "tags": []
   },
   "outputs": [
    {
     "name": "stderr",
     "output_type": "stream",
     "text": [
      "C:\\ProgramData\\Anaconda3\\lib\\site-packages\\sklearn\\model_selection\\_split.py:293: FutureWarning: Setting a random_state has no effect since shuffle is False. This will raise an error in 0.24. You should leave random_state to its default (None), or set shuffle=True.\n",
      "  warnings.warn(\n",
      "C:\\ProgramData\\Anaconda3\\lib\\site-packages\\sklearn\\model_selection\\_split.py:293: FutureWarning: Setting a random_state has no effect since shuffle is False. This will raise an error in 0.24. You should leave random_state to its default (None), or set shuffle=True.\n",
      "  warnings.warn(\n",
      "C:\\ProgramData\\Anaconda3\\lib\\site-packages\\sklearn\\model_selection\\_split.py:293: FutureWarning: Setting a random_state has no effect since shuffle is False. This will raise an error in 0.24. You should leave random_state to its default (None), or set shuffle=True.\n",
      "  warnings.warn(\n",
      "C:\\ProgramData\\Anaconda3\\lib\\site-packages\\sklearn\\model_selection\\_split.py:293: FutureWarning: Setting a random_state has no effect since shuffle is False. This will raise an error in 0.24. You should leave random_state to its default (None), or set shuffle=True.\n",
      "  warnings.warn(\n",
      "C:\\ProgramData\\Anaconda3\\lib\\site-packages\\sklearn\\model_selection\\_split.py:293: FutureWarning: Setting a random_state has no effect since shuffle is False. This will raise an error in 0.24. You should leave random_state to its default (None), or set shuffle=True.\n",
      "  warnings.warn(\n",
      "C:\\ProgramData\\Anaconda3\\lib\\site-packages\\sklearn\\model_selection\\_split.py:293: FutureWarning: Setting a random_state has no effect since shuffle is False. This will raise an error in 0.24. You should leave random_state to its default (None), or set shuffle=True.\n",
      "  warnings.warn(\n"
     ]
    },
    {
     "data": {
      "text/html": [
       "<div>\n",
       "<style scoped>\n",
       "    .dataframe tbody tr th:only-of-type {\n",
       "        vertical-align: middle;\n",
       "    }\n",
       "\n",
       "    .dataframe tbody tr th {\n",
       "        vertical-align: top;\n",
       "    }\n",
       "\n",
       "    .dataframe thead th {\n",
       "        text-align: right;\n",
       "    }\n",
       "</style>\n",
       "<table border=\"1\" class=\"dataframe\">\n",
       "  <thead>\n",
       "    <tr style=\"text-align: right;\">\n",
       "      <th></th>\n",
       "      <th>Algorithm</th>\n",
       "      <th>ROC AUC Mean</th>\n",
       "      <th>ROC AUC STD</th>\n",
       "      <th>Accuracy Mean</th>\n",
       "      <th>Accuracy STD</th>\n",
       "    </tr>\n",
       "  </thead>\n",
       "  <tbody>\n",
       "    <tr>\n",
       "      <th>0</th>\n",
       "      <td>Logistic Regression</td>\n",
       "      <td>83.61</td>\n",
       "      <td>4.40</td>\n",
       "      <td>88.89</td>\n",
       "      <td>4.25</td>\n",
       "    </tr>\n",
       "    <tr>\n",
       "      <th>2</th>\n",
       "      <td>SVM</td>\n",
       "      <td>80.21</td>\n",
       "      <td>5.43</td>\n",
       "      <td>87.11</td>\n",
       "      <td>4.16</td>\n",
       "    </tr>\n",
       "    <tr>\n",
       "      <th>1</th>\n",
       "      <td>Random Forest</td>\n",
       "      <td>78.41</td>\n",
       "      <td>5.35</td>\n",
       "      <td>86.78</td>\n",
       "      <td>3.83</td>\n",
       "    </tr>\n",
       "    <tr>\n",
       "      <th>5</th>\n",
       "      <td>Gaussian NB</td>\n",
       "      <td>73.95</td>\n",
       "      <td>7.04</td>\n",
       "      <td>39.56</td>\n",
       "      <td>3.95</td>\n",
       "    </tr>\n",
       "    <tr>\n",
       "      <th>3</th>\n",
       "      <td>KNN</td>\n",
       "      <td>65.10</td>\n",
       "      <td>6.38</td>\n",
       "      <td>85.56</td>\n",
       "      <td>3.26</td>\n",
       "    </tr>\n",
       "    <tr>\n",
       "      <th>4</th>\n",
       "      <td>Decision Tree Classifier</td>\n",
       "      <td>63.84</td>\n",
       "      <td>8.99</td>\n",
       "      <td>80.89</td>\n",
       "      <td>4.79</td>\n",
       "    </tr>\n",
       "  </tbody>\n",
       "</table>\n",
       "</div>"
      ],
      "text/plain": [
       "                  Algorithm  ROC AUC Mean  ROC AUC STD  Accuracy Mean  \\\n",
       "0       Logistic Regression         83.61         4.40          88.89   \n",
       "2                       SVM         80.21         5.43          87.11   \n",
       "1             Random Forest         78.41         5.35          86.78   \n",
       "5               Gaussian NB         73.95         7.04          39.56   \n",
       "3                       KNN         65.10         6.38          85.56   \n",
       "4  Decision Tree Classifier         63.84         8.99          80.89   \n",
       "\n",
       "   Accuracy STD  \n",
       "0          4.25  \n",
       "2          4.16  \n",
       "1          3.83  \n",
       "5          3.95  \n",
       "3          3.26  \n",
       "4          4.79  "
      ]
     },
     "execution_count": 54,
     "metadata": {},
     "output_type": "execute_result"
    }
   ],
   "source": [
    "acc_results = []\n",
    "auc_results = []\n",
    "names = []\n",
    "# set table to table to populate with performance results\n",
    "col = ['Algorithm', 'ROC AUC Mean', 'ROC AUC STD', \n",
    "       'Accuracy Mean', 'Accuracy STD']\n",
    "df_results = pd.DataFrame(columns=col)\n",
    "i = 0\n",
    "# evaluate each model using cross-validation\n",
    "for name, model in models:\n",
    "    kfold = model_selection.KFold(\n",
    "        n_splits=10, random_state=5)  # 10-fold cross-validation\n",
    "\n",
    "    cv_acc_results = model_selection.cross_val_score(  # accuracy scoring\n",
    "        model, x_train[c], y_train, cv=kfold, scoring='accuracy')\n",
    "\n",
    "    cv_auc_results = model_selection.cross_val_score(  # roc_auc scoring\n",
    "        model, x_train[c], y_train, cv=kfold, scoring='roc_auc')\n",
    "\n",
    "    acc_results.append(cv_acc_results)\n",
    "    auc_results.append(cv_auc_results)\n",
    "    names.append(name)\n",
    "    df_results.loc[i] = [name,\n",
    "                         round(cv_auc_results.mean()*100, 2),\n",
    "                         round(cv_auc_results.std()*100, 2),\n",
    "                         round(cv_acc_results.mean()*100, 2),\n",
    "                         round(cv_acc_results.std()*100, 2)\n",
    "                         ]\n",
    "    i += 1\n",
    "df_results.sort_values(by=['ROC AUC Mean'], ascending=False)"
   ]
  },
  {
   "cell_type": "code",
   "execution_count": 55,
   "metadata": {
    "execution": {
     "iopub.execute_input": "2020-08-28T17:04:44.503722Z",
     "iopub.status.busy": "2020-08-28T17:04:44.502612Z",
     "iopub.status.idle": "2020-08-28T17:04:44.763193Z",
     "shell.execute_reply": "2020-08-28T17:04:44.762459Z"
    },
    "papermill": {
     "duration": 0.302022,
     "end_time": "2020-08-28T17:04:44.763342",
     "exception": false,
     "start_time": "2020-08-28T17:04:44.461320",
     "status": "completed"
    },
    "tags": []
   },
   "outputs": [
    {
     "data": {
      "image/png": "[encoded data removed]",
      "text/plain": [
       "<Figure size 1080x504 with 1 Axes>"
      ]
     },
     "metadata": {},
     "output_type": "display_data"
    }
   ],
   "source": [
    "fig = plt.figure(figsize=(15, 7))\n",
    "fig.suptitle('Algorithm Accuracy Comparison')\n",
    "ax = fig.add_subplot(111)\n",
    "plt.boxplot(acc_results)\n",
    "ax.set_xticklabels(names)\n",
    "plt.show()"
   ]
  },
  {
   "cell_type": "code",
   "execution_count": 56,
   "metadata": {
    "execution": {
     "iopub.execute_input": "2020-08-28T17:04:44.838056Z",
     "iopub.status.busy": "2020-08-28T17:04:44.835101Z",
     "iopub.status.idle": "2020-08-28T17:04:45.099477Z",
     "shell.execute_reply": "2020-08-28T17:04:45.098816Z"
    },
    "papermill": {
     "duration": 0.30665,
     "end_time": "2020-08-28T17:04:45.099620",
     "exception": false,
     "start_time": "2020-08-28T17:04:44.792970",
     "status": "completed"
    },
    "tags": []
   },
   "outputs": [
    {
     "data": {
      "image/png": "[encoded data removed]",
      "text/plain": [
       "<Figure size 1080x504 with 1 Axes>"
      ]
     },
     "metadata": {},
     "output_type": "display_data"
    }
   ],
   "source": [
    "fig = plt.figure(figsize=(15, 7))\n",
    "fig.suptitle('Algorithm ROC AUC Comparison')\n",
    "ax = fig.add_subplot(111)\n",
    "plt.boxplot(auc_results)\n",
    "ax.set_xticklabels(names)\n",
    "plt.show()"
   ]
  },
  {
   "cell_type": "markdown",
   "metadata": {
    "papermill": {
     "duration": 0.030771,
     "end_time": "2020-08-28T17:04:45.160260",
     "exception": false,
     "start_time": "2020-08-28T17:04:45.129489",
     "status": "completed"
    },
    "tags": []
   },
   "source": [
    "Based on our ROC AUC comparison analysis, Logistic Regression and SVM show the highest mean AUC scores. We will shortlist these two algorithms for further analysis. See below for more details on these two algos."
   ]
  },
  {
   "cell_type": "markdown",
   "metadata": {
    "papermill": {
     "duration": 0.029231,
     "end_time": "2020-08-28T17:04:45.218996",
     "exception": false,
     "start_time": "2020-08-28T17:04:45.189765",
     "status": "completed"
    },
    "tags": []
   },
   "source": [
    "#### SVC"
   ]
  },
  {
   "cell_type": "code",
   "execution_count": 57,
   "metadata": {
    "execution": {
     "iopub.execute_input": "2020-08-28T17:04:45.294430Z",
     "iopub.status.busy": "2020-08-28T17:04:45.293641Z",
     "iopub.status.idle": "2020-08-28T17:04:47.018736Z",
     "shell.execute_reply": "2020-08-28T17:04:47.017768Z"
    },
    "papermill": {
     "duration": 1.770493,
     "end_time": "2020-08-28T17:04:47.018914",
     "exception": false,
     "start_time": "2020-08-28T17:04:45.248421",
     "status": "completed"
    },
    "tags": []
   },
   "outputs": [
    {
     "name": "stderr",
     "output_type": "stream",
     "text": [
      "C:\\ProgramData\\Anaconda3\\lib\\site-packages\\sklearn\\model_selection\\_split.py:293: FutureWarning: Setting a random_state has no effect since shuffle is False. This will raise an error in 0.24. You should leave random_state to its default (None), or set shuffle=True.\n",
      "  warnings.warn(\n"
     ]
    },
    {
     "name": "stdout",
     "output_type": "stream",
     "text": [
      "AUC score (STD): 0.81 (0.05)\n"
     ]
    }
   ],
   "source": [
    "from sklearn.svm import SVC\n",
    "kfold = model_selection.KFold(n_splits=10, random_state=7)\n",
    "modelCV = SVC(random_state=7, probability=True)\n",
    "scoring = 'roc_auc'\n",
    "results = model_selection.cross_val_score(\n",
    "    modelCV, x_train[c], y_train, cv=kfold, scoring=scoring)\n",
    "print(\"AUC score (STD): %.2f (%.2f)\" % (results.mean(), results.std()))"
   ]
  },
  {
   "cell_type": "code",
   "execution_count": 58,
   "metadata": {
    "execution": {
     "iopub.execute_input": "2020-08-28T17:04:47.092938Z",
     "iopub.status.busy": "2020-08-28T17:04:47.092055Z",
     "iopub.status.idle": "2020-08-28T17:05:02.539440Z",
     "shell.execute_reply": "2020-08-28T17:05:02.538730Z"
    },
    "papermill": {
     "duration": 15.489291,
     "end_time": "2020-08-28T17:05:02.539577",
     "exception": false,
     "start_time": "2020-08-28T17:04:47.050286",
     "status": "completed"
    },
    "tags": []
   },
   "outputs": [
    {
     "name": "stdout",
     "output_type": "stream",
     "text": [
      "Fitting 10 folds for each of 16 candidates, totalling 160 fits\n"
     ]
    },
    {
     "name": "stderr",
     "output_type": "stream",
     "text": [
      "C:\\ProgramData\\Anaconda3\\lib\\site-packages\\sklearn\\model_selection\\_search.py:278: UserWarning: The total space of parameters 16 is smaller than n_iter=10000. Running 16 iterations. For exhaustive searches, use GridSearchCV.\n",
      "  warnings.warn(\n",
      "[Parallel(n_jobs=-1)]: Using backend LokyBackend with 8 concurrent workers.\n",
      "[Parallel(n_jobs=-1)]: Done  34 tasks      | elapsed:    2.3s\n",
      "[Parallel(n_jobs=-1)]: Done 160 out of 160 | elapsed:   12.6s finished\n"
     ]
    },
    {
     "name": "stdout",
     "output_type": "stream",
     "text": [
      "Best Score:  0.8179040616246498\n",
      "Best Params:  {'gamma': 'scale', 'C': 0.1}\n"
     ]
    },
    {
     "data": {
      "text/plain": [
       "'print(\\'=\\'*20)\\nprint(\"best params: \" + str(log_gs.best_estimator_))\\nprint(\"best params: \" + str(log_gs.best_params_))\\nprint(\\'best score:\\', log_gs.best_score_)\\nprint(\\'=\\'*20)'"
      ]
     },
     "execution_count": 58,
     "metadata": {},
     "output_type": "execute_result"
    }
   ],
   "source": [
    "param_grid = {'C': [0.1, 0.5, 1, 2, 5, 10, 15, 20],\n",
    "              'gamma' : ['auto','scale']} # hyper-parameter list to fine-tune\n",
    "random = RandomizedSearchCV(estimator=modelCV,\n",
    "                            param_distributions=param_grid,\n",
    "                            scoring='roc_auc',\n",
    "                            verbose=1, n_jobs=-1,\n",
    "                            n_iter=10000,cv=10)\n",
    "\n",
    "random_result = random.fit(x_merged[c], y)\n",
    "\n",
    "print('Best Score: ', random_result.best_score_)\n",
    "print('Best Params: ', random_result.best_params_)\n",
    "\"\"\"print('='*20)\n",
    "print(\"best params: \" + str(log_gs.best_estimator_))\n",
    "print(\"best params: \" + str(log_gs.best_params_))\n",
    "print('best score:', log_gs.best_score_)\n",
    "print('='*20)\"\"\""
   ]
  },
  {
   "cell_type": "code",
   "execution_count": 59,
   "metadata": {
    "execution": {
     "iopub.execute_input": "2020-08-28T17:05:02.609019Z",
     "iopub.status.busy": "2020-08-28T17:05:02.606742Z",
     "iopub.status.idle": "2020-08-28T17:05:02.614099Z",
     "shell.execute_reply": "2020-08-28T17:05:02.613470Z"
    },
    "papermill": {
     "duration": 0.04422,
     "end_time": "2020-08-28T17:05:02.614235",
     "exception": false,
     "start_time": "2020-08-28T17:05:02.570015",
     "status": "completed"
    },
    "tags": []
   },
   "outputs": [
    {
     "name": "stdout",
     "output_type": "stream",
     "text": [
      "(900, 46) (100, 46)\n"
     ]
    }
   ],
   "source": [
    "x_train,x_tes,y_train,y_tes = train_test_split(x_merged,y,test_size=0.1)\n",
    "print(x_train.shape,x_tes.shape)"
   ]
  },
  {
   "cell_type": "code",
   "execution_count": 60,
   "metadata": {
    "execution": {
     "iopub.execute_input": "2020-08-28T17:05:02.686044Z",
     "iopub.status.busy": "2020-08-28T17:05:02.685249Z",
     "iopub.status.idle": "2020-08-28T17:05:02.928264Z",
     "shell.execute_reply": "2020-08-28T17:05:02.927495Z"
    },
    "papermill": {
     "duration": 0.28386,
     "end_time": "2020-08-28T17:05:02.928410",
     "exception": false,
     "start_time": "2020-08-28T17:05:02.644550",
     "status": "completed"
    },
    "tags": []
   },
   "outputs": [
    {
     "data": {
      "text/plain": [
       "SVC(C=0.5, probability=True)"
      ]
     },
     "execution_count": 60,
     "metadata": {},
     "output_type": "execute_result"
    }
   ],
   "source": [
    "from sklearn.svm import SVC\n",
    "SVC = SVC(C=0.5,gamma='scale',kernel='rbf',probability=True)\n",
    "SVC.fit(x_merged[c],y)"
   ]
  },
  {
   "cell_type": "code",
   "execution_count": 61,
   "metadata": {
    "execution": {
     "iopub.execute_input": "2020-08-28T17:05:03.001404Z",
     "iopub.status.busy": "2020-08-28T17:05:03.000548Z",
     "iopub.status.idle": "2020-08-28T17:05:03.082239Z",
     "shell.execute_reply": "2020-08-28T17:05:03.083135Z"
    },
    "papermill": {
     "duration": 0.124356,
     "end_time": "2020-08-28T17:05:03.083308",
     "exception": false,
     "start_time": "2020-08-28T17:05:02.958952",
     "status": "completed"
    },
    "tags": []
   },
   "outputs": [
    {
     "name": "stdout",
     "output_type": "stream",
     "text": [
      "[[843   0]\n",
      " [141  16]]\n",
      "0.9519044057090615\n"
     ]
    }
   ],
   "source": [
    "from sklearn import metrics\n",
    "y_pred_train = SVC.predict(x_merged[c])\n",
    "print(metrics.confusion_matrix(y,y_pred_train))\n",
    "print(metrics.roc_auc_score(y,SVC.predict_proba(x_merged[c])[:,1]))"
   ]
  },
  {
   "cell_type": "code",
   "execution_count": 67,
   "metadata": {
    "execution": {
     "iopub.execute_input": "2020-08-28T17:05:03.397765Z",
     "iopub.status.busy": "2020-08-28T17:05:03.396886Z",
     "iopub.status.idle": "2020-08-28T17:05:03.513319Z",
     "shell.execute_reply": "2020-08-28T17:05:03.512492Z"
    },
    "papermill": {
     "duration": 0.153151,
     "end_time": "2020-08-28T17:05:03.513505",
     "exception": false,
     "start_time": "2020-08-28T17:05:03.360354",
     "status": "completed"
    },
    "tags": []
   },
   "outputs": [],
   "source": [
    "#logistic regression"
   ]
  },
  {
   "cell_type": "code",
   "execution_count": 63,
   "metadata": {
    "execution": {
     "iopub.execute_input": "2020-08-28T17:05:03.655120Z",
     "iopub.status.busy": "2020-08-28T17:05:03.654310Z",
     "iopub.status.idle": "2020-08-28T17:05:03.873375Z",
     "shell.execute_reply": "2020-08-28T17:05:03.872757Z"
    },
    "papermill": {
     "duration": 0.266569,
     "end_time": "2020-08-28T17:05:03.873515",
     "exception": false,
     "start_time": "2020-08-28T17:05:03.606946",
     "status": "completed"
    },
    "tags": []
   },
   "outputs": [
    {
     "name": "stderr",
     "output_type": "stream",
     "text": [
      "C:\\ProgramData\\Anaconda3\\lib\\site-packages\\sklearn\\model_selection\\_split.py:293: FutureWarning: Setting a random_state has no effect since shuffle is False. This will raise an error in 0.24. You should leave random_state to its default (None), or set shuffle=True.\n",
      "  warnings.warn(\n"
     ]
    },
    {
     "name": "stdout",
     "output_type": "stream",
     "text": [
      "AUC score (STD): 0.85 (0.05)\n"
     ]
    }
   ],
   "source": [
    "from sklearn.linear_model import LogisticRegression\n",
    "kfold = model_selection.KFold(n_splits=10, random_state=7)\n",
    "modelCV = LogisticRegression(solver='liblinear',\n",
    "                             class_weight=\"balanced\", \n",
    "                             random_state=7)\n",
    "scoring = 'roc_auc'\n",
    "results = model_selection.cross_val_score(\n",
    "    modelCV, x_train[c], y_train, cv=kfold, scoring=scoring)\n",
    "print(\"AUC score (STD): %.2f (%.2f)\" % (results.mean(), results.std()))"
   ]
  },
  {
   "cell_type": "code",
   "execution_count": 64,
   "metadata": {
    "execution": {
     "iopub.execute_input": "2020-08-28T17:05:03.949115Z",
     "iopub.status.busy": "2020-08-28T17:05:03.947837Z",
     "iopub.status.idle": "2020-08-28T17:06:04.553463Z",
     "shell.execute_reply": "2020-08-28T17:06:04.554263Z"
    },
    "papermill": {
     "duration": 60.649432,
     "end_time": "2020-08-28T17:06:04.554513",
     "exception": false,
     "start_time": "2020-08-28T17:05:03.905081",
     "status": "completed"
    },
    "tags": []
   },
   "outputs": [
    {
     "name": "stdout",
     "output_type": "stream",
     "text": [
      "Fitting 10 folds for each of 400 candidates, totalling 4000 fits\n"
     ]
    },
    {
     "name": "stderr",
     "output_type": "stream",
     "text": [
      "[Parallel(n_jobs=-1)]: Using backend LokyBackend with 8 concurrent workers.\n",
      "[Parallel(n_jobs=-1)]: Done  56 tasks      | elapsed:    0.4s\n",
      "[Parallel(n_jobs=-1)]: Done 1200 tasks      | elapsed:   11.1s\n",
      "[Parallel(n_jobs=-1)]: Done 3200 tasks      | elapsed:   32.1s\n"
     ]
    },
    {
     "name": "stdout",
     "output_type": "stream",
     "text": [
      "Best Score:  0.8445215336134453\n",
      "Best Params:  {'C': 0.040999999999999995, 'solver': 'lbfgs'}\n"
     ]
    },
    {
     "name": "stderr",
     "output_type": "stream",
     "text": [
      "[Parallel(n_jobs=-1)]: Done 4000 out of 4000 | elapsed:   40.5s finished\n"
     ]
    }
   ],
   "source": [
    "param_grid = {'C': np.arange(1e-03, 2, 0.01),\n",
    "              'solver': ['lbfgs', 'liblinear']} # hyper-parameter list to fine-tune\n",
    "random = GridSearchCV(estimator=modelCV,\n",
    "                            param_grid=param_grid,\n",
    "                            scoring='roc_auc',\n",
    "                            verbose=1, n_jobs=-1,\n",
    "                            cv=10)\n",
    "\n",
    "random_result = random.fit(x_merged[c], y)\n",
    "\n",
    "print('Best Score: ', random_result.best_score_)\n",
    "print('Best Params: ', random_result.best_params_)"
   ]
  },
  {
   "cell_type": "code",
   "execution_count": 65,
   "metadata": {
    "execution": {
     "iopub.execute_input": "2020-08-28T17:06:04.633614Z",
     "iopub.status.busy": "2020-08-28T17:06:04.632543Z",
     "iopub.status.idle": "2020-08-28T17:06:04.660002Z",
     "shell.execute_reply": "2020-08-28T17:06:04.659361Z"
    },
    "papermill": {
     "duration": 0.072843,
     "end_time": "2020-08-28T17:06:04.660142",
     "exception": false,
     "start_time": "2020-08-28T17:06:04.587299",
     "status": "completed"
    },
    "tags": []
   },
   "outputs": [
    {
     "data": {
      "text/plain": [
       "LogisticRegression(C=0.05099999999999999, max_iter=1000)"
      ]
     },
     "execution_count": 65,
     "metadata": {},
     "output_type": "execute_result"
    }
   ],
   "source": [
    "from sklearn.linear_model import LogisticRegression\n",
    "LR = LogisticRegression(C = 0.05099999999999999 ,solver='lbfgs',class_weight=None,max_iter=1000)\n",
    "LR.fit(x_train[c],y_train)"
   ]
  },
  {
   "cell_type": "code",
   "execution_count": 66,
   "metadata": {
    "execution": {
     "iopub.execute_input": "2020-08-28T17:06:04.738920Z",
     "iopub.status.busy": "2020-08-28T17:06:04.738050Z",
     "iopub.status.idle": "2020-08-28T17:06:04.755603Z",
     "shell.execute_reply": "2020-08-28T17:06:04.754959Z"
    },
    "papermill": {
     "duration": 0.063114,
     "end_time": "2020-08-28T17:06:04.755740",
     "exception": false,
     "start_time": "2020-08-28T17:06:04.692626",
     "status": "completed"
    },
    "tags": []
   },
   "outputs": [
    {
     "name": "stdout",
     "output_type": "stream",
     "text": [
      "0.8767444144736345\n",
      "[[827  16]\n",
      " [ 97  60]]\n"
     ]
    }
   ],
   "source": [
    "from sklearn import metrics\n",
    "y_pred_train = LR.predict_proba(x_merged[c])\n",
    "print(metrics.roc_auc_score(y,y_pred_train[:,1]))\n",
    "print(metrics.confusion_matrix(y,LR.predict(x_merged[c])))"
   ]
  }
 ],
 "metadata": {
  "kernelspec": {
   "display_name": "Python 3",
   "language": "python",
   "name": "python3"
  },
  "language_info": {
   "codemirror_mode": {
    "name": "ipython",
    "version": 3
   },
   "file_extension": ".py",
   "mimetype": "text/x-python",
   "name": "python",
   "nbconvert_exporter": "python",
   "pygments_lexer": "ipython3",
   "version": "3.8.3"
  },
  "papermill": {
   "duration": 107.319356,
   "end_time": "2020-08-28T17:06:05.343068",
   "environment_variables": {},
   "exception": null,
   "input_path": "__notebook__.ipynb",
   "output_path": "__notebook__.ipynb",
   "parameters": {},
   "start_time": "2020-08-28T17:04:18.023712",
   "version": "2.1.0"
  }
 },
 "nbformat": 4,
 "nbformat_minor": 4
}
